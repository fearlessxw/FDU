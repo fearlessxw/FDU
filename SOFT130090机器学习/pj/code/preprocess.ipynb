{
 "cells": [
  {
   "cell_type": "markdown",
   "id": "fb430aba",
   "metadata": {},
   "source": [
    "# 数据预处理"
   ]
  },
  {
   "cell_type": "code",
   "execution_count": 171,
   "id": "c2e9122d",
   "metadata": {},
   "outputs": [],
   "source": [
    "import pandas as pd\n",
    "import matplotlib.pyplot as plt"
   ]
  },
  {
   "cell_type": "code",
   "execution_count": 172,
   "id": "6fb85363",
   "metadata": {},
   "outputs": [],
   "source": [
    "filepath = \"超市.xls\""
   ]
  },
  {
   "cell_type": "markdown",
   "id": "5ab475b9",
   "metadata": {},
   "source": [
    "## 数据总数与特征"
   ]
  },
  {
   "cell_type": "code",
   "execution_count": 173,
   "id": "e8a44244",
   "metadata": {},
   "outputs": [
    {
     "name": "stdout",
     "output_type": "stream",
     "text": [
      "数据总数：9935\n",
      "特征总数：20\n"
     ]
    }
   ],
   "source": [
    "df = pd.read_excel(filepath)\n",
    "\n",
    "print(\"数据总数：\" + str(df.shape[0]))\n",
    "print(\"特征总数：\" + str(len(df.columns.tolist())))"
   ]
  },
  {
   "cell_type": "code",
   "execution_count": 174,
   "id": "69c47ba2",
   "metadata": {},
   "outputs": [
    {
     "name": "stdout",
     "output_type": "stream",
     "text": [
      "DataFrame中没有缺失值\n"
     ]
    }
   ],
   "source": [
    "# 缺失值检查\n",
    "missing_values = df.isnull()\n",
    "\n",
    "if missing_values.any().any():\n",
    "    print(\"DataFrame中存在缺失值\")\n",
    "else:\n",
    "    print(\"DataFrame中没有缺失值\")"
   ]
  },
  {
   "cell_type": "markdown",
   "id": "be1c31ff",
   "metadata": {},
   "source": [
    "## 分别对各特征进行预处理"
   ]
  },
  {
   "cell_type": "code",
   "execution_count": 175,
   "id": "1c48a338",
   "metadata": {},
   "outputs": [
    {
     "name": "stdout",
     "output_type": "stream",
     "text": [
      "               利润率     记录数            利润                           发货日期  \\\n",
      "count  9935.000000  9935.0   9935.000000                           9935   \n",
      "mean      0.085460     1.0    213.632612  2015-05-09 08:21:29.984901632   \n",
      "min      -4.000000     1.0  -7978.000000            2013-01-03 00:00:00   \n",
      "25%       0.020000     1.0      7.000000            2014-06-18 00:00:00   \n",
      "50%       0.170000     1.0     74.000000            2015-07-16 00:00:00   \n",
      "75%       0.340000     1.0    276.000000            2016-05-16 00:00:00   \n",
      "max       0.500000     1.0  10108.000000            2017-01-06 00:00:00   \n",
      "std       0.465521     0.0    856.568912                            NaN   \n",
      "\n",
      "                折扣           数量                           订单日期  \n",
      "count  9935.000000  9935.000000                           9935  \n",
      "mean      0.107111     3.768093  2015-05-05 09:25:25.153497600  \n",
      "min       0.000000     1.000000            2013-01-01 00:00:00  \n",
      "25%       0.000000     2.000000            2014-06-13 00:00:00  \n",
      "50%       0.000000     3.000000            2015-07-11 00:00:00  \n",
      "75%       0.200000     5.000000            2016-05-12 00:00:00  \n",
      "max       0.800000    14.000000            2016-12-30 00:00:00  \n",
      "std       0.187930     2.236421                            NaN  \n"
     ]
    }
   ],
   "source": [
    "print(df.describe())"
   ]
  },
  {
   "cell_type": "markdown",
   "id": "287cdfba",
   "metadata": {},
   "source": [
    "### 订单ID"
   ]
  },
  {
   "cell_type": "code",
   "execution_count": 176,
   "id": "17631eda",
   "metadata": {
    "scrolled": true
   },
   "outputs": [
    {
     "name": "stdout",
     "output_type": "stream",
     "text": [
      "0       US-2015-1357144\n",
      "1       CN-2015-1973789\n",
      "2       CN-2015-1973789\n",
      "3       US-2015-3017568\n",
      "4       CN-2014-2975416\n",
      "             ...       \n",
      "9930    CN-2015-4318875\n",
      "9931    CN-2015-4318875\n",
      "9932    CN-2015-4318875\n",
      "9933    CN-2015-4318875\n",
      "9934    CN-2012-3557528\n",
      "Name: 订单 Id, Length: 9935, dtype: object\n"
     ]
    }
   ],
   "source": [
    "print(df['订单 Id'])"
   ]
  },
  {
   "cell_type": "code",
   "execution_count": 177,
   "id": "6038d114",
   "metadata": {},
   "outputs": [],
   "source": [
    "# 拆分成三个子特征\n",
    "df[['订单国家','订单年份', '订单编号']] = df['订单 Id'].str.split('-', expand=True)\n",
    "# 删除原特征\n",
    "df.drop(columns = ['订单 Id', '订单年份'], inplace=True)"
   ]
  },
  {
   "cell_type": "markdown",
   "id": "71187707",
   "metadata": {},
   "source": [
    "### 产品名称"
   ]
  },
  {
   "cell_type": "code",
   "execution_count": 178,
   "id": "ff124ceb",
   "metadata": {},
   "outputs": [
    {
     "name": "stdout",
     "output_type": "stream",
     "text": [
      "             产品名称 产品描述\n",
      "0      Fiskars 剪刀   蓝色\n",
      "1  GlobeWeis 搭扣信封   红色\n",
      "2  Cardinal 孔加固材料   回收\n",
      "3    Kleencut 开信刀   工业\n",
      "4  KitchenAid 搅拌机   黑色\n"
     ]
    }
   ],
   "source": [
    "df[['产品名称', '产品描述']] = df['产品名称'].str.split(', ', expand=True)\n",
    "\n",
    "# 显示结果\n",
    "print(df[['产品名称', '产品描述']].head())"
   ]
  },
  {
   "cell_type": "code",
   "execution_count": 179,
   "id": "8e281dbb",
   "metadata": {},
   "outputs": [
    {
     "name": "stdout",
     "output_type": "stream",
     "text": [
      "(30,)\n"
     ]
    }
   ],
   "source": [
    "print(df['产品描述'].drop_duplicates().shape)"
   ]
  },
  {
   "cell_type": "code",
   "execution_count": 180,
   "id": "583768e1",
   "metadata": {},
   "outputs": [
    {
     "name": "stdout",
     "output_type": "stream",
     "text": [
      "    产品名称\n",
      "0     剪刀\n",
      "1   搭扣信封\n",
      "2  孔加固材料\n",
      "3    开信刀\n",
      "4    搅拌机\n"
     ]
    }
   ],
   "source": [
    "# 定义一个函数，用于提取真正的名称\n",
    "def extract_product_name(row):\n",
    "    return row['产品名称'].lower().replace(row['制造商'].lower() + ' ', '').strip()\n",
    "\n",
    "# 使用 apply 方法将函数应用到每一行\n",
    "df['产品名称'] = df.apply(extract_product_name, axis=1)\n",
    "\n",
    "# 显示结果\n",
    "print(df[['产品名称']].head())"
   ]
  },
  {
   "cell_type": "code",
   "execution_count": 181,
   "id": "8da357a4",
   "metadata": {
    "scrolled": false
   },
   "outputs": [
    {
     "name": "stdout",
     "output_type": "stream",
     "text": [
      "             制造商              产品名称\n",
      "304   Rubbermaid     rubvermaid 灯泡\n",
      "490   Rubbermaid     rubvermaid 框架\n",
      "504   Rubbermaid     rubvermaid 门挡\n",
      "951   Rubbermaid  rubvermaid 分层置放架\n",
      "1066  Rubbermaid     rubvermaid 闹钟\n",
      "1385  Rubbermaid     rubvermaid 相框\n"
     ]
    }
   ],
   "source": [
    "# 检查\n",
    "rows_with_spaces = df[df['产品名称'].str.contains(' ')]\n",
    "\n",
    "# 显示结果\n",
    "print(rows_with_spaces[['制造商', '产品名称']].drop_duplicates())"
   ]
  },
  {
   "cell_type": "code",
   "execution_count": 182,
   "id": "2e002efa",
   "metadata": {},
   "outputs": [
    {
     "name": "stdout",
     "output_type": "stream",
     "text": [
      "    产品名称\n",
      "0     剪刀\n",
      "1   搭扣信封\n",
      "2  孔加固材料\n",
      "3    开信刀\n",
      "4    搅拌机\n"
     ]
    }
   ],
   "source": [
    "# 处理rubvermaid\n",
    "def extract_product_name(row):\n",
    "    return row['产品名称'].lower().replace('rubvermaid' + ' ', '').strip()\n",
    "\n",
    "# 使用 apply 方法将函数应用到每一行\n",
    "df['产品名称'] = df.apply(extract_product_name, axis=1)\n",
    "\n",
    "# 显示结果\n",
    "print(df[['产品名称']].head())"
   ]
  },
  {
   "cell_type": "code",
   "execution_count": 183,
   "id": "9fee63c2",
   "metadata": {},
   "outputs": [
    {
     "name": "stdout",
     "output_type": "stream",
     "text": [
      "Empty DataFrame\n",
      "Columns: [制造商, 产品名称]\n",
      "Index: []\n"
     ]
    }
   ],
   "source": [
    "# 检查\n",
    "rows_with_spaces = df[df['产品名称'].str.contains(' ')]\n",
    "\n",
    "# 显示结果\n",
    "print(rows_with_spaces[['制造商', '产品名称']].drop_duplicates())"
   ]
  },
  {
   "cell_type": "code",
   "execution_count": 184,
   "id": "3cff2940",
   "metadata": {},
   "outputs": [
    {
     "name": "stdout",
     "output_type": "stream",
     "text": [
      "(102, 1)\n"
     ]
    }
   ],
   "source": [
    "print(df[['产品名称']].drop_duplicates().shape)"
   ]
  },
  {
   "cell_type": "code",
   "execution_count": null,
   "id": "06c0b8b5",
   "metadata": {},
   "outputs": [],
   "source": []
  },
  {
   "cell_type": "markdown",
   "id": "bc2984e7",
   "metadata": {},
   "source": [
    "### 利润率&利润"
   ]
  },
  {
   "cell_type": "code",
   "execution_count": 185,
   "id": "674f7cc8",
   "metadata": {},
   "outputs": [
    {
     "name": "stdout",
     "output_type": "stream",
     "text": [
      "0      -0.47\n",
      "1       0.34\n",
      "2       0.13\n",
      "3      -0.08\n",
      "4       0.40\n",
      "        ... \n",
      "9930   -0.33\n",
      "9931    0.08\n",
      "9932   -0.37\n",
      "9933   -0.33\n",
      "9934   -0.48\n",
      "Name: 利润率, Length: 9935, dtype: float64\n",
      "0        -61\n",
      "1         43\n",
      "2          4\n",
      "3        -27\n",
      "4        550\n",
      "        ... \n",
      "9930    -315\n",
      "9931      36\n",
      "9932     -88\n",
      "9933   -1617\n",
      "9934   -3502\n",
      "Name: 利润, Length: 9935, dtype: int64\n"
     ]
    }
   ],
   "source": [
    "# 利润率\n",
    "print(df['利润率'])\n",
    "\n",
    "# 利润\n",
    "print(df['利润'])"
   ]
  },
  {
   "cell_type": "markdown",
   "id": "8c1858ac",
   "metadata": {},
   "source": [
    "### 记录数"
   ]
  },
  {
   "cell_type": "code",
   "execution_count": 186,
   "id": "0d99ca63",
   "metadata": {},
   "outputs": [
    {
     "name": "stdout",
     "output_type": "stream",
     "text": [
      "True\n"
     ]
    }
   ],
   "source": [
    "print((df['记录数'] == 1).sum() == df.shape[0])"
   ]
  },
  {
   "cell_type": "code",
   "execution_count": 187,
   "id": "bc883543",
   "metadata": {},
   "outputs": [],
   "source": [
    "# 值全为1，删除本列\n",
    "df.drop(columns = ['记录数'], inplace=True)"
   ]
  },
  {
   "cell_type": "markdown",
   "id": "1363dd14",
   "metadata": {},
   "source": [
    "### 国家"
   ]
  },
  {
   "cell_type": "code",
   "execution_count": 188,
   "id": "215316c3",
   "metadata": {},
   "outputs": [
    {
     "name": "stdout",
     "output_type": "stream",
     "text": [
      "True\n"
     ]
    }
   ],
   "source": [
    "print((df['国家'] == '中国').sum() == df.shape[0])"
   ]
  },
  {
   "cell_type": "code",
   "execution_count": 189,
   "id": "1d023bbf",
   "metadata": {},
   "outputs": [],
   "source": [
    "# 值全为中国，删除本列\n",
    "df.drop(columns = ['国家'], inplace=True)"
   ]
  },
  {
   "cell_type": "markdown",
   "id": "97cf2469",
   "metadata": {},
   "source": [
    "### 客户名称"
   ]
  },
  {
   "cell_type": "code",
   "execution_count": 190,
   "id": "8e949dd6",
   "metadata": {},
   "outputs": [],
   "source": [
    "# 删除无关列\n",
    "df.drop(columns = ['客户名称'], inplace=True)"
   ]
  },
  {
   "cell_type": "markdown",
   "id": "a176e8e9",
   "metadata": {},
   "source": [
    "## 数据导出"
   ]
  },
  {
   "cell_type": "code",
   "execution_count": 191,
   "id": "51490e58",
   "metadata": {},
   "outputs": [],
   "source": [
    "df.to_excel(\"preprocessed_supermarket.xlsx\", index=False)"
   ]
  }
 ],
 "metadata": {
  "kernelspec": {
   "display_name": "Python 3 (ipykernel)",
   "language": "python",
   "name": "python3"
  },
  "language_info": {
   "codemirror_mode": {
    "name": "ipython",
    "version": 3
   },
   "file_extension": ".py",
   "mimetype": "text/x-python",
   "name": "python",
   "nbconvert_exporter": "python",
   "pygments_lexer": "ipython3",
   "version": "3.11.5"
  }
 },
 "nbformat": 4,
 "nbformat_minor": 5
}
