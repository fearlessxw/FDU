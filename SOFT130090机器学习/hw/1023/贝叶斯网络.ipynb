{
 "cells": [
  {
   "cell_type": "code",
   "execution_count": null,
   "id": "03da4340",
   "metadata": {},
   "outputs": [],
   "source": [
    "from pgmpy.models import BayesianNetwork\n",
    "from pgmpy.factors.discrete import TabularCPD\n",
    "from pgmpy.inference import VariableElimination"
   ]
  },
  {
   "cell_type": "code",
   "execution_count": null,
   "id": "6667fd15",
   "metadata": {},
   "outputs": [],
   "source": [
    "# 创建一个贝叶斯网络模型\n",
    "model = BayesianNetwork([('锻炼', '胃痛'), ('饮食', '胃痛'), ('饮食', '腹胀'),('胃痛','恶心'),('胃痛','胃炎'),('腹胀','胃炎')])"
   ]
  },
  {
   "cell_type": "code",
   "execution_count": null,
   "id": "0ce71c17",
   "metadata": {},
   "outputs": [],
   "source": [
    "# 定义每个节点的条件概率分布 (CPD)\n",
    "cpd_a = TabularCPD(variable='锻炼', variable_card=2, values=[[0.5], [0.5]])\n",
    "cpd_b = TabularCPD(variable='饮食', variable_card=2, values=[[0.4], [0.6]])\n",
    "cpd_c = TabularCPD(variable='胃痛', variable_card=2, values=[[0.2, 0.45, 0.55, 0.7], [0.8, 0.55, 0.45, 0.3]],\n",
    "                  evidence=['锻炼', '饮食'], evidence_card=[2, 2])\n",
    "cpd_d = TabularCPD(variable='腹胀', variable_card=2, values=[[0.2, 0.6], [0.8, 0.4]], evidence=['饮食'], evidence_card=[2])\n",
    "cpd_e = TabularCPD(variable='恶心', variable_card=2, values=[[0.7, 0.2], [0.3, 0.8]], evidence=['胃痛'], evidence_card=[2])\n",
    "cpd_f = TabularCPD(variable='胃炎', variable_card=2, values=[[0.8, 0.6, 0.4, 0.1], [0.2, 0.4, 0.6, 0.9]],\n",
    "                  evidence=['胃痛', '腹胀'], evidence_card=[2, 2])\n"
   ]
  },
  {
   "cell_type": "code",
   "execution_count": null,
   "id": "19d64c1a",
   "metadata": {},
   "outputs": [],
   "source": [
    "# 将CPD添加到模型\n",
    "model.add_cpds(cpd_a, cpd_b, cpd_c, cpd_d, cpd_e, cpd_f)"
   ]
  },
  {
   "cell_type": "code",
   "execution_count": null,
   "id": "c771773b",
   "metadata": {},
   "outputs": [],
   "source": [
    "# 验证模型结构和CPD\n",
    "assert model.check_model()"
   ]
  },
  {
   "cell_type": "code",
   "execution_count": null,
   "id": "475e3793",
   "metadata": {},
   "outputs": [],
   "source": [
    "# 创建推理对象\n",
    "inference = VariableElimination(model)"
   ]
  },
  {
   "cell_type": "code",
   "execution_count": null,
   "id": "a6f7b7c0",
   "metadata": {},
   "outputs": [],
   "source": [
    "# 查询边缘概率\n",
    "result = inference.query(variables=['胃痛'])\n",
    "print(result)"
   ]
  },
  {
   "cell_type": "code",
   "execution_count": null,
   "id": "fdb2af1d",
   "metadata": {},
   "outputs": [],
   "source": [
    "# 查询条件概率\n",
    "result = inference.query(variables=['胃痛'], evidence={'恶心': 1})\n",
    "print(result)\n"
   ]
  },
  {
   "cell_type": "code",
   "execution_count": null,
   "id": "2a7aee63",
   "metadata": {},
   "outputs": [],
   "source": []
  }
 ],
 "metadata": {
  "kernelspec": {
   "display_name": "Python 3 (ipykernel)",
   "language": "python",
   "name": "python3"
  },
  "language_info": {
   "codemirror_mode": {
    "name": "ipython",
    "version": 3
   },
   "file_extension": ".py",
   "mimetype": "text/x-python",
   "name": "python",
   "nbconvert_exporter": "python",
   "pygments_lexer": "ipython3",
   "version": "3.11.5"
  }
 },
 "nbformat": 4,
 "nbformat_minor": 5
}
