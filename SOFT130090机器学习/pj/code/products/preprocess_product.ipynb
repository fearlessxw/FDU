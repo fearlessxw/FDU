{
 "cells": [
  {
   "cell_type": "code",
   "execution_count": 94,
   "id": "391f5ab9",
   "metadata": {},
   "outputs": [],
   "source": [
    "import pandas as pd"
   ]
  },
  {
   "cell_type": "code",
   "execution_count": 95,
   "id": "5faa8fe3",
   "metadata": {},
   "outputs": [],
   "source": [
    "filepath = \"../preprocessed_supermarket.xlsx\"\n",
    "df = pd.read_excel(filepath)"
   ]
  },
  {
   "cell_type": "code",
   "execution_count": 96,
   "id": "eb1b04f8",
   "metadata": {},
   "outputs": [
    {
     "name": "stdout",
     "output_type": "stream",
     "text": [
      "Index(['利润率', '制造商', '产品名称', '利润', '发货日期', '地区', '城市', '子类别', '折扣', '数量',\n",
      "       '省/自治区', '类别', '细分', '订单日期', '邮寄方式', '销售额', '订单国家', '订单编号', '产品描述'],\n",
      "      dtype='object')\n"
     ]
    }
   ],
   "source": [
    "print(df.columns)"
   ]
  },
  {
   "cell_type": "markdown",
   "id": "07cfcf8c",
   "metadata": {},
   "source": [
    "## 数据预处理"
   ]
  },
  {
   "cell_type": "markdown",
   "id": "e90ee3a3",
   "metadata": {},
   "source": [
    "### 商品单价计算"
   ]
  },
  {
   "cell_type": "code",
   "execution_count": 97,
   "id": "b2b66999",
   "metadata": {},
   "outputs": [],
   "source": [
    "df['单价'] = df.apply(lambda row: row['销售额'] / ((1-row['折扣']) * row['数量']), axis=1)"
   ]
  },
  {
   "cell_type": "code",
   "execution_count": 98,
   "id": "13ef4b9b",
   "metadata": {},
   "outputs": [],
   "source": [
    "# 计算每个商品的平均单价\n",
    "avg_prices = df.groupby(['制造商', '产品名称'])['单价'].mean().reset_index()\n",
    "\n",
    "# 将平均单价合并回原始DataFrame\n",
    "df = pd.merge(df, avg_prices, on=['制造商','产品名称'], suffixes=('', '_平均'))\n",
    "\n",
    "# 用平均单价替代原始的单价列\n",
    "df['单价'] = df['单价_平均']\n",
    "\n",
    "# 删除多余的列\n",
    "df = df.drop(['单价_平均'], axis=1)"
   ]
  },
  {
   "cell_type": "code",
   "execution_count": 99,
   "id": "4c007466",
   "metadata": {},
   "outputs": [
    {
     "name": "stdout",
     "output_type": "stream",
     "text": [
      "            制造商   产品名称          单价\n",
      "0       Fiskars     剪刀  104.340789\n",
      "33    GlobeWeis   搭扣信封   52.689550\n",
      "51     Cardinal  孔加固材料   26.294440\n",
      "83     Kleencut    开信刀  123.078807\n",
      "101  KitchenAid    搅拌机  460.770714\n"
     ]
    }
   ],
   "source": [
    "print(df[['制造商','产品名称', '单价']].drop_duplicates().head())"
   ]
  },
  {
   "cell_type": "markdown",
   "id": "18142928",
   "metadata": {},
   "source": [
    "### 商品成本计算"
   ]
  },
  {
   "cell_type": "code",
   "execution_count": 100,
   "id": "f2d97f2b",
   "metadata": {},
   "outputs": [],
   "source": [
    "df['成本'] = df.apply(lambda row: (row['销售额'] - row['利润']) / row['数量'], axis=1)"
   ]
  },
  {
   "cell_type": "code",
   "execution_count": 101,
   "id": "c82af8e4",
   "metadata": {},
   "outputs": [],
   "source": [
    "# 计算每个商品的平均单价\n",
    "avg_prices = df.groupby(['产品名称','制造商'])['成本'].mean().reset_index()\n",
    "\n",
    "# 将平均单价合并回原始DataFrame\n",
    "df = pd.merge(df, avg_prices, on=['产品名称','制造商'], suffixes=('', '_平均'))\n",
    "\n",
    "# 用平均单价替代原始的单价列\n",
    "df['成本'] = df['成本_平均']\n",
    "\n",
    "# 删除多余的列\n",
    "df = df.drop(['成本_平均'], axis=1)"
   ]
  },
  {
   "cell_type": "code",
   "execution_count": 102,
   "id": "2e2a1704",
   "metadata": {},
   "outputs": [
    {
     "name": "stdout",
     "output_type": "stream",
     "text": [
      "            制造商   产品名称          成本\n",
      "0       Fiskars     剪刀   90.715705\n",
      "33    GlobeWeis   搭扣信封   36.032937\n",
      "51     Cardinal  孔加固材料   20.237016\n",
      "83     Kleencut    开信刀   93.826235\n",
      "101  KitchenAid    搅拌机  333.071905\n"
     ]
    }
   ],
   "source": [
    "print(df[['制造商', '产品名称', '成本']].drop_duplicates().head())"
   ]
  },
  {
   "cell_type": "markdown",
   "id": "6d340427",
   "metadata": {},
   "source": [
    "### 各年销售情况"
   ]
  },
  {
   "cell_type": "code",
   "execution_count": 103,
   "id": "a91c0375",
   "metadata": {
    "scrolled": true
   },
   "outputs": [
    {
     "name": "stdout",
     "output_type": "stream",
     "text": [
      "       制造商    年份   产品名称 产品描述  数量\n",
      "0     Acco  2013  孔加固材料   回收   3\n",
      "1     Acco  2013  孔加固材料   实惠   8\n",
      "2     Acco  2013  孔加固材料   耐用  13\n",
      "3     Acco  2013    打孔机   回收   2\n",
      "4     Acco  2013    打孔机   实惠   1\n",
      "...    ...   ...    ...  ...  ..\n",
      "5388   贝尔金  2016  闪存驱动器   耐用   2\n",
      "5389   贝尔金  2016     鼠标  可编程   9\n",
      "5390   贝尔金  2016     鼠标   回收   8\n",
      "5391   贝尔金  2016     鼠标   实惠   8\n",
      "5392   贝尔金  2016     鼠标   耐用   5\n",
      "\n",
      "[5393 rows x 5 columns]\n"
     ]
    }
   ],
   "source": [
    "df['年份'] = df['订单日期'].dt.year\n",
    "sales_count = df.groupby(['制造商', '年份', '产品名称', '产品描述'])['数量'].sum().reset_index()\n",
    "\n",
    "print(sales_count)"
   ]
  },
  {
   "cell_type": "code",
   "execution_count": 104,
   "id": "49221fec",
   "metadata": {},
   "outputs": [
    {
     "name": "stdout",
     "output_type": "stream",
     "text": [
      "       制造商   产品名称 产品描述  2013年卖出  2014年卖出  2015年卖出  2016年卖出\n",
      "0     Acco  孔加固材料   回收        3        9        0       18\n",
      "1     Acco  孔加固材料   实惠        8        1        0       13\n",
      "2     Acco  孔加固材料   耐用       13        0        0        7\n",
      "3     Acco  孔加固材料   透明        0        0        5       24\n",
      "4     Acco    打孔机   回收        2       15        0       26\n",
      "...    ...    ...  ...      ...      ...      ...      ...\n",
      "1948   贝尔金  闪存驱动器   耐用        6        0        0        2\n",
      "1949   贝尔金     鼠标  可编程        1        3        7        9\n",
      "1950   贝尔金     鼠标   回收        3        0        4        8\n",
      "1951   贝尔金     鼠标   实惠        2        0        0        8\n",
      "1952   贝尔金     鼠标   耐用        7        1        3        5\n",
      "\n",
      "[1953 rows x 7 columns]\n"
     ]
    }
   ],
   "source": [
    "sales_count = sales_count.pivot_table(index=['制造商','产品名称','产品描述'], columns='年份', values='数量', fill_value=0)\n",
    "\n",
    "# 将列名进行重命名\n",
    "sales_count.columns = [f'{year}年卖出' for year in sales_count.columns]\n",
    "\n",
    "# 将结果保存到新的DataFrame\n",
    "sales_count = sales_count.reset_index()\n",
    "\n",
    "# 输出结果\n",
    "print(sales_count)"
   ]
  },
  {
   "cell_type": "markdown",
   "id": "75765c01",
   "metadata": {},
   "source": [
    "### 各年总利润"
   ]
  },
  {
   "cell_type": "code",
   "execution_count": 105,
   "id": "4e51a13e",
   "metadata": {},
   "outputs": [
    {
     "name": "stdout",
     "output_type": "stream",
     "text": [
      "        年份    产品名称  产品描述    利润\n",
      "0     2013   个人复印机    彩色  1515\n",
      "1     2013   个人复印机   数字化  2905\n",
      "2     2013   个人复印机  每套两件   145\n",
      "3     2013   个人复印机    红色    36\n",
      "4     2013      书库    传统  1238\n",
      "...    ...     ...   ...   ...\n",
      "1594  2016  马尼拉纸信封    银色   465\n",
      "1595  2016      鼠标   可编程 -1034\n",
      "1596  2016      鼠标    回收    56\n",
      "1597  2016      鼠标    实惠  1188\n",
      "1598  2016      鼠标    耐用   964\n",
      "\n",
      "[1599 rows x 4 columns]\n"
     ]
    }
   ],
   "source": [
    "interest_count = df.groupby(['年份', '产品名称','产品描述'])['利润'].sum().reset_index()\n",
    "\n",
    "print(interest_count)"
   ]
  },
  {
   "cell_type": "code",
   "execution_count": 106,
   "id": "70af3534",
   "metadata": {},
   "outputs": [
    {
     "name": "stdout",
     "output_type": "stream",
     "text": [
      "       产品名称  产品描述  2013年利润  2014年利润  2015年利润  2016年利润\n",
      "0     个人复印机    彩色     1515     -899     5034     1661\n",
      "1     个人复印机   数字化     2905      934     6620     1230\n",
      "2     个人复印机  每套两件      145      382     2889     3591\n",
      "3     个人复印机    红色       36     1578     1709     1855\n",
      "4        书库    传统     1238    20288    11341    14887\n",
      "..      ...   ...      ...      ...      ...      ...\n",
      "403  马尼拉纸信封    银色      343      213      328      465\n",
      "404      鼠标   可编程      -42       63      241    -1034\n",
      "405      鼠标    回收      392     -126      264       56\n",
      "406      鼠标    实惠      239      273      269     1188\n",
      "407      鼠标    耐用       49      141      245      964\n",
      "\n",
      "[408 rows x 6 columns]\n"
     ]
    }
   ],
   "source": [
    "interest_count = interest_count.pivot_table(index=['产品名称','产品描述'], columns='年份', values='利润', fill_value=0)\n",
    "interest_count.columns = [f'{year}年利润' for year in interest_count.columns]\n",
    "interest_count = interest_count.reset_index()\n",
    "\n",
    "print(interest_count)"
   ]
  },
  {
   "cell_type": "markdown",
   "id": "3e5efedb",
   "metadata": {},
   "source": [
    "## 有效信息合并"
   ]
  },
  {
   "cell_type": "code",
   "execution_count": 107,
   "id": "b400e418",
   "metadata": {},
   "outputs": [
    {
     "name": "stdout",
     "output_type": "stream",
     "text": [
      "     产品名称 产品描述    类别 子类别      制造商           成本           单价\n",
      "0      剪刀   蓝色  办公用品  用品  Fiskars    90.715705   104.340789\n",
      "1      剪刀   蓝色  办公用品  用品  Fiskars    90.715705   104.340789\n",
      "2      剪刀  锯齿状  办公用品  用品  Fiskars    90.715705   104.340789\n",
      "3      剪刀  锯齿状  办公用品  用品  Fiskars    90.715705   104.340789\n",
      "4      剪刀   蓝色  办公用品  用品  Fiskars    90.715705   104.340789\n",
      "...   ...  ...   ...  ..      ...          ...          ...\n",
      "9930   木桌   黑色    家具  桌子    Bevis  1919.055556  2492.574074\n",
      "9931   木桌   组装    家具  桌子    Lesro  1854.700000  2190.238889\n",
      "9932   木桌   白色    家具  桌子    Lesro  1854.700000  2190.238889\n",
      "9933   木桌   白色    家具  桌子    Lesro  1854.700000  2190.238889\n",
      "9934  电脑桌   黑色    家具  桌子    Bevis  1892.384615  2307.794872\n",
      "\n",
      "[9935 rows x 7 columns]\n"
     ]
    }
   ],
   "source": [
    "cols = ['产品名称','产品描述', '类别', '子类别', '制造商', '成本', '单价']\n",
    "new_df = df[cols]\n",
    "print(new_df)"
   ]
  },
  {
   "cell_type": "code",
   "execution_count": 108,
   "id": "a6039871",
   "metadata": {},
   "outputs": [
    {
     "name": "stdout",
     "output_type": "stream",
     "text": [
      "       产品名称 产品描述  类别  子类别      制造商          成本          单价  2013年卖出  2014年卖出  \\\n",
      "0     个人复印机   彩色  技术  复印机  Brother  497.321905  665.129762        2        0   \n",
      "1     个人复印机   彩色  技术  复印机  Hewlett  433.173485  673.141667        2        0   \n",
      "2     个人复印机   彩色  技术  复印机       佳能  461.494762  666.330357        0        3   \n",
      "3     个人复印机   彩色  技术  复印机       夏普  422.693972  558.507086       11        0   \n",
      "4     个人复印机   彩色  技术  复印机       惠普  445.372727  578.890152        0        6   \n",
      "...     ...  ...  ..  ...      ...         ...         ...      ...      ...   \n",
      "1948     鼠标   耐用  技术   配件  Enermax  170.091349  185.816984        0        3   \n",
      "1949     鼠标   耐用  技术   配件  Memorex  101.001247  130.952834        4        3   \n",
      "1950     鼠标   耐用  技术   配件  SanDisk  130.276190  177.258377        2        0   \n",
      "1951     鼠标   耐用  技术   配件       罗技   91.480392  136.840850        0        4   \n",
      "1952     鼠标   耐用  技术   配件      贝尔金  145.953992  190.309290        7        1   \n",
      "\n",
      "      2015年卖出  2016年卖出  2013年利润  2014年利润  2015年利润  2016年利润  \n",
      "0          10        3     1515     -899     5034     1661  \n",
      "1           5        8     1515     -899     5034     1661  \n",
      "2          11        2     1515     -899     5034     1661  \n",
      "3           2        0     1515     -899     5034     1661  \n",
      "4           4        0     1515     -899     5034     1661  \n",
      "...       ...      ...      ...      ...      ...      ...  \n",
      "1948       15        0       49      141      245      964  \n",
      "1949        6       12       49      141      245      964  \n",
      "1950        0        8       49      141      245      964  \n",
      "1951        0        4       49      141      245      964  \n",
      "1952        3        5       49      141      245      964  \n",
      "\n",
      "[1953 rows x 15 columns]\n"
     ]
    }
   ],
   "source": [
    "new_df = new_df.merge(sales_count, how='right')\n",
    "new_df.drop_duplicates(inplace=True)\n",
    "new_df = new_df.merge(interest_count, how='right')\n",
    "new_df.drop_duplicates(inplace=True)\n",
    "print(new_df)"
   ]
  },
  {
   "cell_type": "code",
   "execution_count": 109,
   "id": "ded33ece",
   "metadata": {},
   "outputs": [],
   "source": [
    "new_df.to_excel(\"products_info.xlsx\", index=False)"
   ]
  },
  {
   "cell_type": "code",
   "execution_count": null,
   "id": "1675344c",
   "metadata": {},
   "outputs": [],
   "source": []
  }
 ],
 "metadata": {
  "kernelspec": {
   "display_name": "Python 3 (ipykernel)",
   "language": "python",
   "name": "python3"
  },
  "language_info": {
   "codemirror_mode": {
    "name": "ipython",
    "version": 3
   },
   "file_extension": ".py",
   "mimetype": "text/x-python",
   "name": "python",
   "nbconvert_exporter": "python",
   "pygments_lexer": "ipython3",
   "version": "3.11.5"
  }
 },
 "nbformat": 4,
 "nbformat_minor": 5
}
