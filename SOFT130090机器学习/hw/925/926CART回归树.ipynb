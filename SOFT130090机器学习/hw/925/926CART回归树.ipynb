{
 "cells": [
  {
   "cell_type": "markdown",
   "id": "7b0e6236",
   "metadata": {},
   "source": [
    "# CART回归树\n",
    "使用CART回归树，对下面数据集中的GMB进行预测"
   ]
  },
  {
   "cell_type": "code",
   "execution_count": 1,
   "id": "0af2faed",
   "metadata": {},
   "outputs": [],
   "source": [
    "import warnings\n",
    "import joblib\n",
    "#import pydotplus\n",
    "import numpy as np\n",
    "import pandas as pd\n",
    "import seaborn as sns\n",
    "from matplotlib import pyplot as plt\n",
    "from sklearn.tree import DecisionTreeRegressor, export_graphviz, export_text\n",
    "from sklearn.metrics import classification_report, roc_auc_score, mean_squared_error\n",
    "from sklearn.model_selection import train_test_split, GridSearchCV, cross_validate, validation_curve"
   ]
  },
  {
   "cell_type": "code",
   "execution_count": 2,
   "id": "540cf836",
   "metadata": {},
   "outputs": [
    {
     "name": "stdout",
     "output_type": "stream",
     "text": [
      "              cmpgn_name control_yn redeemer_yn  user_id gender  age  \\\n",
      "0  2010_AutoParts_Coupon          t           n       41      F   44   \n",
      "1  2010_AutoParts_Coupon          t           n       40      F   54   \n",
      "2  2010_AutoParts_Coupon          t           n       39      M   56   \n",
      "3  2010_AutoParts_Coupon          t           n       38      F   32   \n",
      "4  2010_AutoParts_Coupon          t           n       37      F   64   \n",
      "\n",
      "     CK_DATE  BUY_QTY   GMB  \n",
      "0 2010-07-13        1  0.01  \n",
      "1 2010-07-13        1  0.99  \n",
      "2 2010-07-13        1  0.99  \n",
      "3 2010-07-13        1  2.00  \n",
      "4 2010-07-13        1  2.25  \n"
     ]
    }
   ],
   "source": [
    "# 读取Excel文件，可以指定文件路径\n",
    "excel_file_path = './eBay_business_case.xlsx'  # 替换为您的Excel文件路径\n",
    "sheet_name = 'DATA'\n",
    "df = pd.read_excel(excel_file_path, sheet_name=sheet_name)\n",
    "\n",
    "# 打印前几行数据以检查\n",
    "print(df.head())"
   ]
  },
  {
   "cell_type": "markdown",
   "id": "b47bc680",
   "metadata": {},
   "source": [
    "## 数据预处理\n",
    "删除无关变量"
   ]
  },
  {
   "cell_type": "code",
   "execution_count": 3,
   "id": "6f4762da",
   "metadata": {},
   "outputs": [],
   "source": [
    "df.drop(columns=['cmpgn_name', 'user_id', 'CK_DATE'], inplace=True)"
   ]
  },
  {
   "cell_type": "code",
   "execution_count": 4,
   "id": "48b77bb3",
   "metadata": {},
   "outputs": [
    {
     "name": "stdout",
     "output_type": "stream",
     "text": [
      "   control_yn  redeemer_yn  gender  age  BUY_QTY   GMB\n",
      "0           0            0       0   44        0  0.01\n",
      "1           0            0       0   54        0  0.99\n",
      "2           0            0       1   56        0  0.99\n",
      "3           0            0       0   32        0  2.00\n",
      "4           0            0       0   64        0  2.25\n"
     ]
    }
   ],
   "source": [
    "for col in ['control_yn', 'redeemer_yn', 'gender', 'BUY_QTY']:\n",
    "    # 获取控制列的唯一值\n",
    "    control_yn_values = df[col].unique()\n",
    "    # 创建一个映射字典，将唯一值映射到连续的数字\n",
    "    value_to_number_mapping = {value: i for i, value in enumerate(control_yn_values)}\n",
    "    # 使用映射字典将列中的值替换为相应的数字\n",
    "    df[col] = df[col].map(value_to_number_mapping)\n",
    "print(df.head())"
   ]
  },
  {
   "cell_type": "code",
   "execution_count": 5,
   "id": "907a413c",
   "metadata": {},
   "outputs": [],
   "source": [
    "# 这里假设您使用除 'GMB' 列之外的其他列作为特征\n",
    "X = df.drop(columns=['GMB'])\n",
    "\n",
    "# 定义目标列（您要预测的列）\n",
    "y = df['GMB']"
   ]
  },
  {
   "cell_type": "code",
   "execution_count": 6,
   "id": "30ebccec",
   "metadata": {},
   "outputs": [],
   "source": [
    "# 将数据拆分为训练集和测试集\n",
    "X_train, X_test, y_train, y_test = train_test_split(X, y, test_size=0.2, random_state=42)"
   ]
  },
  {
   "cell_type": "markdown",
   "id": "3735e076",
   "metadata": {},
   "source": [
    "# 模型预测"
   ]
  },
  {
   "cell_type": "code",
   "execution_count": 9,
   "id": "bc4152f1",
   "metadata": {},
   "outputs": [],
   "source": [
    "cart_model = DecisionTreeRegressor(random_state=17).fit(X_train, y_train)"
   ]
  },
  {
   "cell_type": "code",
   "execution_count": 10,
   "id": "236d9177",
   "metadata": {},
   "outputs": [
    {
     "name": "stdout",
     "output_type": "stream",
     "text": [
      "Mean Squared Error: 87279.16120264254\n"
     ]
    }
   ],
   "source": [
    "# 进行预测\n",
    "y_pred = cart_model.predict(X_test)\n",
    "\n",
    "# 计算均方误差\n",
    "mse = mean_squared_error(y_test, y_pred)\n",
    "print(\"Mean Squared Error:\", mse)"
   ]
  },
  {
   "cell_type": "code",
   "execution_count": null,
   "id": "57653bf0",
   "metadata": {},
   "outputs": [],
   "source": []
  },
  {
   "cell_type": "code",
   "execution_count": null,
   "id": "d8f48be5",
   "metadata": {},
   "outputs": [],
   "source": []
  },
  {
   "cell_type": "code",
   "execution_count": null,
   "id": "1ac17c9d",
   "metadata": {},
   "outputs": [],
   "source": []
  }
 ],
 "metadata": {
  "kernelspec": {
   "display_name": "Python 3 (ipykernel)",
   "language": "python",
   "name": "python3"
  },
  "language_info": {
   "codemirror_mode": {
    "name": "ipython",
    "version": 3
   },
   "file_extension": ".py",
   "mimetype": "text/x-python",
   "name": "python",
   "nbconvert_exporter": "python",
   "pygments_lexer": "ipython3",
   "version": "3.11.5"
  }
 },
 "nbformat": 4,
 "nbformat_minor": 5
}
