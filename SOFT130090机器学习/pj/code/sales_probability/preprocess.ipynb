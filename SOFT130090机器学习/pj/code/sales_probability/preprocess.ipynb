{
 "cells": [
  {
   "cell_type": "code",
   "execution_count": 32,
   "id": "96ec0202",
   "metadata": {},
   "outputs": [],
   "source": [
    "import pandas as pd\n",
    "import matplotlib\n",
    "import matplotlib.pyplot as plt\n",
    "from pylab import mpl\n",
    "import seaborn as sns\n",
    "import numpy as np"
   ]
  },
  {
   "cell_type": "code",
   "execution_count": 38,
   "id": "0720a47b",
   "metadata": {},
   "outputs": [
    {
     "name": "stdout",
     "output_type": "stream",
     "text": [
      "             制造商   产品名称 产品描述    类别  子类别  地区 省/自治区  城市   细分       订单日期   折扣  数量\n",
      "0        Fiskars     剪刀   蓝色  办公用品   用品  华东    浙江  杭州   公司 2016-04-27  0.4   2\n",
      "1      GlobeWeis   搭扣信封   红色  办公用品   信封  西南    四川  内江  消费者 2016-06-15  0.0   2\n",
      "2       Cardinal  孔加固材料   回收  办公用品  装订机  西南    四川  内江  消费者 2016-06-15  0.4   2\n",
      "3       Kleencut    开信刀   工业  办公用品   用品  华东    江苏  镇江   公司 2016-12-09  0.4   4\n",
      "4     KitchenAid    搅拌机   黑色  办公用品   器具  中南    广东  汕头  消费者 2015-05-31  0.0   3\n",
      "...          ...    ...  ...   ...  ...  ..   ...  ..  ...        ...  ...  ..\n",
      "9930     SanDisk    记忆卡   实惠    技术   配件  华东    浙江  义乌  消费者 2016-05-28  0.4   3\n",
      "9931       Eldon      盘   蓝色  办公用品  收纳具  华东    浙江  义乌  消费者 2016-05-28  0.0   2\n",
      "9932       Safco    折叠椅   红色    家具   椅子  华东    浙江  义乌  消费者 2016-05-28  0.4   1\n",
      "9933          罗技    路由器   耐用    技术   配件  华东    浙江  义乌  消费者 2016-05-28  0.4   7\n",
      "9934    Breville     冰箱   白色  办公用品   器具  华东    浙江  温州   公司 2013-12-02  0.4   5\n",
      "\n",
      "[9935 rows x 12 columns]\n"
     ]
    }
   ],
   "source": [
    "filepath = '../preprocessed_supermarket.xlsx'\n",
    "df = pd.read_excel(filepath)\n",
    "df = df[['制造商','产品名称','产品描述','类别','子类别','地区','省/自治区','城市','细分','订单日期','折扣','数量']]\n",
    "print(df)"
   ]
  },
  {
   "cell_type": "code",
   "execution_count": 39,
   "id": "76d5ece0",
   "metadata": {},
   "outputs": [
    {
     "name": "stdout",
     "output_type": "stream",
     "text": [
      "          制造商 产品名称 产品描述    类别 子类别  地区 省/自治区  城市    细分       订单日期    折扣  数量  \\\n",
      "0     Fiskars   剪刀   蓝色  办公用品  用品  华东    浙江  杭州    公司 2016-04-27  0.40   2   \n",
      "1     Fiskars   剪刀   蓝色  办公用品  用品  华东    浙江  温岭    公司 2015-06-07  0.40   6   \n",
      "2     Fiskars   剪刀  锯齿状  办公用品  用品  西南    云南  开远    公司 2015-08-30  0.00   3   \n",
      "3     Fiskars   剪刀  锯齿状  办公用品  用品  西南    云南  昆明    公司 2015-12-13  0.00   5   \n",
      "4     Fiskars   剪刀   蓝色  办公用品  用品  华东    山东  潍坊   消费者 2016-05-28  0.00   5   \n",
      "...       ...  ...  ...   ...  ..  ..   ...  ..   ...        ...   ...  ..   \n",
      "9930    Bevis   木桌   黑色    家具  桌子  西南    四川  成都   消费者 2016-08-05  0.60   1   \n",
      "9931    Lesro   木桌   组装    家具  桌子  中南    广东  珠海    公司 2016-12-11  0.25   3   \n",
      "9932    Lesro   木桌   白色    家具  桌子  中南    广东  恩城  小型企业 2014-06-20  0.25   5   \n",
      "9933    Lesro   木桌   白色    家具  桌子  中南    湖北  随州    公司 2015-11-18  0.60   2   \n",
      "9934    Bevis  电脑桌   黑色    家具  桌子  华北    天津  天津    公司 2016-09-04  0.25  13   \n",
      "\n",
      "               单价  \n",
      "0      104.340789  \n",
      "1      104.340789  \n",
      "2      104.340789  \n",
      "3      104.340789  \n",
      "4      104.340789  \n",
      "...           ...  \n",
      "9930  2492.574074  \n",
      "9931  2190.238889  \n",
      "9932  2190.238889  \n",
      "9933  2190.238889  \n",
      "9934  2307.794872  \n",
      "\n",
      "[9935 rows x 13 columns]\n"
     ]
    }
   ],
   "source": [
    "filepath = '../products/products_info.xlsx'\n",
    "df2 = pd.read_excel(filepath)\n",
    "df2 = df2[['产品名称','类别','子类别','制造商','单价']]\n",
    "df = df.merge(df2).drop_duplicates().reset_index().drop(columns=['index'])\n",
    "print(df)"
   ]
  },
  {
   "cell_type": "markdown",
   "id": "013e92fe",
   "metadata": {},
   "source": [
    "## 构造负类样本"
   ]
  },
  {
   "cell_type": "code",
   "execution_count": 40,
   "id": "702e6b9d",
   "metadata": {},
   "outputs": [
    {
     "name": "stdout",
     "output_type": "stream",
     "text": [
      "        制造商 产品名称 产品描述    类别 子类别  地区 省/自治区   城市   细分       订单日期   折扣  数量  \\\n",
      "0  Kleencut   剪刀    钢  办公用品  用品  华北    河北  秦皇岛  消费者 2016-01-09  0.0   3   \n",
      "1  Stiletto   剪刀    钢  办公用品  用品  华北    河北  秦皇岛  消费者 2016-01-02  0.0   3   \n",
      "2      Acme   剪刀  锯齿状  办公用品  用品  华东    山东   即墨   公司 2016-11-09  0.4   5   \n",
      "3  Stiletto   剪刀  锯齿状  办公用品  用品  华北    河北  秦皇岛   公司 2013-11-09  0.0   1   \n",
      "4  Kleencut   剪刀   工业  办公用品  用品  中南    广西   钦州   公司 2015-05-31  0.4   3   \n",
      "\n",
      "           单价  \n",
      "0   99.191047  \n",
      "1  106.528319  \n",
      "2  117.379087  \n",
      "3  106.528319  \n",
      "4   99.191047  \n"
     ]
    }
   ],
   "source": [
    "from datetime import timedelta\n",
    "time_threshold = timedelta(days=5)\n",
    "synthetic_data = []\n",
    "\n",
    "# 遍历原始数据\n",
    "for index, row in df.iterrows():\n",
    "    # 选择相同产品名称和产品描述、制造商不同、且订单日期相差5天以内的数据\n",
    "    similar_rows = df[\n",
    "        (df['产品名称'] == row['产品名称']) &\n",
    "        (df['产品描述'] == row['产品描述']) &\n",
    "        (df['制造商'] != row['制造商']) &\n",
    "        (abs(df['订单日期'] - row['订单日期']) <= time_threshold)\n",
    "    ]\n",
    "    \n",
    "    if similar_rows.shape[0] !=0:\n",
    "        # 针对符合条件的数据，创建新的合成数据\n",
    "        for _, similar_row in similar_rows.iterrows():\n",
    "            synthetic_row = row.copy()  # 复制原始数据行\n",
    "            synthetic_row['制造商'] = similar_row['制造商']  # 替换制造商\n",
    "            synthetic_row['订单日期'] = similar_row['订单日期']  # 替换订单日期\n",
    "            synthetic_row['单价'] = similar_row['单价']  # 替换价格\n",
    "            synthetic_row['折扣'] = similar_row['折扣']  # 替换折扣\n",
    "            \n",
    "            synthetic_data.append(synthetic_row.values.tolist())\n",
    "\n",
    "synthetic_df = pd.DataFrame(synthetic_data, columns=df.columns)\n",
    "print(synthetic_df.head())"
   ]
  },
  {
   "cell_type": "code",
   "execution_count": 27,
   "id": "fbeda041",
   "metadata": {},
   "outputs": [
    {
     "name": "stdout",
     "output_type": "stream",
     "text": [
      "(1816, 12)\n"
     ]
    }
   ],
   "source": [
    "print(synthetic_df.shape)"
   ]
  },
  {
   "cell_type": "markdown",
   "id": "727adbc2",
   "metadata": {},
   "source": [
    "## 增加新列并合并数据集"
   ]
  },
  {
   "cell_type": "code",
   "execution_count": 41,
   "id": "d3395824",
   "metadata": {},
   "outputs": [
    {
     "name": "stdout",
     "output_type": "stream",
     "text": [
      "            制造商 产品名称 产品描述    类别 子类别  地区 省/自治区   城市    细分       订单日期    折扣  数量  \\\n",
      "0      Kleencut   剪刀    钢  办公用品  用品  华北    河北  秦皇岛   消费者 2016-01-09  0.00   3   \n",
      "1      Stiletto   剪刀    钢  办公用品  用品  华北    河北  秦皇岛   消费者 2016-01-02  0.00   3   \n",
      "2          Acme   剪刀  锯齿状  办公用品  用品  华东    山东   即墨    公司 2016-11-09  0.40   5   \n",
      "3      Stiletto   剪刀  锯齿状  办公用品  用品  华北    河北  秦皇岛    公司 2013-11-09  0.00   1   \n",
      "4      Kleencut   剪刀   工业  办公用品  用品  中南    广西   钦州    公司 2015-05-31  0.40   3   \n",
      "...         ...  ...  ...   ...  ..  ..   ...  ...   ...        ...   ...  ..   \n",
      "11748     Bevis   木桌   黑色    家具  桌子  西南    四川   成都   消费者 2016-08-05  0.60   1   \n",
      "11749     Lesro   木桌   组装    家具  桌子  中南    广东   珠海    公司 2016-12-11  0.25   3   \n",
      "11750     Lesro   木桌   白色    家具  桌子  中南    广东   恩城  小型企业 2014-06-20  0.25   5   \n",
      "11751     Lesro   木桌   白色    家具  桌子  中南    湖北   随州    公司 2015-11-18  0.60   2   \n",
      "11752     Bevis  电脑桌   黑色    家具  桌子  华北    天津   天津    公司 2016-09-04  0.25  13   \n",
      "\n",
      "                单价  是否购买  \n",
      "0        99.191047     0  \n",
      "1       106.528319     0  \n",
      "2       117.379087     0  \n",
      "3       106.528319     0  \n",
      "4        99.191047     0  \n",
      "...            ...   ...  \n",
      "11748  2492.574074     1  \n",
      "11749  2190.238889     1  \n",
      "11750  2190.238889     1  \n",
      "11751  2190.238889     1  \n",
      "11752  2307.794872     1  \n",
      "\n",
      "[11753 rows x 14 columns]\n"
     ]
    }
   ],
   "source": [
    "synthetic_df['是否购买'] = 0\n",
    "df['是否购买'] = 1\n",
    "df = pd.concat([synthetic_df, df], axis=0, ignore_index=True)  # ignore_index 重新索引\n",
    "print(df)"
   ]
  },
  {
   "cell_type": "code",
   "execution_count": 42,
   "id": "9dff3507",
   "metadata": {},
   "outputs": [],
   "source": [
    "df.to_excel(\"probability_info.xlsx\", index=False)"
   ]
  }
 ],
 "metadata": {
  "kernelspec": {
   "display_name": "Python 3 (ipykernel)",
   "language": "python",
   "name": "python3"
  },
  "language_info": {
   "codemirror_mode": {
    "name": "ipython",
    "version": 3
   },
   "file_extension": ".py",
   "mimetype": "text/x-python",
   "name": "python",
   "nbconvert_exporter": "python",
   "pygments_lexer": "ipython3",
   "version": "3.11.5"
  }
 },
 "nbformat": 4,
 "nbformat_minor": 5
}
