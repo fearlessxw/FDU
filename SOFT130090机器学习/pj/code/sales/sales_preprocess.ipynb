{
 "cells": [
  {
   "cell_type": "code",
   "execution_count": 51,
   "id": "e9cefeca",
   "metadata": {},
   "outputs": [],
   "source": [
    "import pandas as pd"
   ]
  },
  {
   "cell_type": "code",
   "execution_count": 52,
   "id": "bd5dd246",
   "metadata": {},
   "outputs": [
    {
     "name": "stdout",
     "output_type": "stream",
     "text": [
      "          制造商   产品名称    类别  子类别  地区 省/自治区  数量\n",
      "0     Fiskars     剪刀  办公用品   用品  华东    浙江   2\n",
      "1   GlobeWeis   搭扣信封  办公用品   信封  西南    四川   2\n",
      "2    Cardinal  孔加固材料  办公用品  装订机  西南    四川   2\n",
      "3    Kleencut    开信刀  办公用品   用品  华东    江苏   4\n",
      "4  KitchenAid    搅拌机  办公用品   器具  中南    广东   3\n"
     ]
    }
   ],
   "source": [
    "df = pd.read_excel(\"../preprocessed_supermarket.xlsx\")\n",
    "df = df[['制造商', '产品名称', '类别', '子类别', '地区', '省/自治区', '数量']]\n",
    "print(df.head())"
   ]
  },
  {
   "cell_type": "markdown",
   "id": "7cad73ae",
   "metadata": {},
   "source": [
    "## 数据预处理"
   ]
  },
  {
   "cell_type": "markdown",
   "id": "9f98df60",
   "metadata": {},
   "source": [
    "### 年销量计算"
   ]
  },
  {
   "cell_type": "code",
   "execution_count": 53,
   "id": "b9758bca",
   "metadata": {},
   "outputs": [
    {
     "name": "stdout",
     "output_type": "stream",
     "text": [
      "    制造商   产品名称    类别  子类别  地区 省/自治区   年销量\n",
      "0  Acco  孔加固材料  办公用品  装订机  东北    辽宁  2.00\n",
      "1  Acco  孔加固材料  办公用品  装订机  东北   黑龙江  0.75\n",
      "2  Acco  孔加固材料  办公用品  装订机  中南    广东  0.50\n",
      "3  Acco  孔加固材料  办公用品  装订机  中南    湖北  1.50\n",
      "4  Acco  孔加固材料  办公用品  装订机  中南    湖南  2.50\n"
     ]
    }
   ],
   "source": [
    "df = df.groupby(['制造商', '产品名称', '类别', '子类别', '地区', '省/自治区'])['数量'].sum().reset_index()\n",
    "df['年销量'] = df['数量']/4\n",
    "df.drop(columns=['数量'],inplace=True)\n",
    "print(df.head())"
   ]
  },
  {
   "cell_type": "markdown",
   "id": "152772ac",
   "metadata": {},
   "source": [
    "### 商品单价计算"
   ]
  },
  {
   "cell_type": "code",
   "execution_count": 54,
   "id": "6f51f58a",
   "metadata": {},
   "outputs": [
    {
     "name": "stdout",
     "output_type": "stream",
     "text": [
      "     制造商   产品名称    类别  子类别  地区 省/自治区   年销量         单价\n",
      "0   Acco  孔加固材料  办公用品  装订机  东北    辽宁  2.00  32.821392\n",
      "4   Acco  孔加固材料  办公用品  装订机  东北   黑龙江  0.75  32.821392\n",
      "8   Acco  孔加固材料  办公用品  装订机  中南    广东  0.50  32.821392\n",
      "12  Acco  孔加固材料  办公用品  装订机  中南    湖北  1.50  32.821392\n",
      "16  Acco  孔加固材料  办公用品  装订机  中南    湖南  2.50  32.821392\n"
     ]
    }
   ],
   "source": [
    "df2 = pd.read_excel(\"../products/products_info.xlsx\")\n",
    "df2 = df2[['产品名称', '类别', '子类别', '制造商', '单价']]\n",
    "df = df.merge(df2)\n",
    "df.drop_duplicates(inplace=True)\n",
    "print(df.head())"
   ]
  },
  {
   "cell_type": "code",
   "execution_count": 55,
   "id": "6b67dfe1",
   "metadata": {},
   "outputs": [],
   "source": [
    "df.to_excel(\"sales_info.xlsx\", index=False)"
   ]
  }
 ],
 "metadata": {
  "kernelspec": {
   "display_name": "Python 3 (ipykernel)",
   "language": "python",
   "name": "python3"
  },
  "language_info": {
   "codemirror_mode": {
    "name": "ipython",
    "version": 3
   },
   "file_extension": ".py",
   "mimetype": "text/x-python",
   "name": "python",
   "nbconvert_exporter": "python",
   "pygments_lexer": "ipython3",
   "version": "3.11.5"
  }
 },
 "nbformat": 4,
 "nbformat_minor": 5
}
