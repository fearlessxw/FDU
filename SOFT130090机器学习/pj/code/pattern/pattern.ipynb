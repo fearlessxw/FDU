{
 "cells": [
  {
   "cell_type": "code",
   "execution_count": 27,
   "id": "1dded3fd",
   "metadata": {},
   "outputs": [],
   "source": [
    "import pandas as pd\n",
    "import matplotlib.pyplot as plt\n",
    "from mlxtend.frequent_patterns import apriori"
   ]
  },
  {
   "cell_type": "code",
   "execution_count": 42,
   "id": "bca0bd79",
   "metadata": {},
   "outputs": [
    {
     "name": "stdout",
     "output_type": "stream",
     "text": [
      "      订单编号  子类别\n",
      "0  1357144   用品\n",
      "1  1973789   信封\n",
      "2  1973789  装订机\n",
      "3  3017568   用品\n",
      "4  2975416   器具\n"
     ]
    }
   ],
   "source": [
    "filepath = '../preprocessed_supermarket.xlsx'\n",
    "df = pd.read_excel(filepath)\n",
    "df = df[['订单编号','子类别']]\n",
    "print(df.head())"
   ]
  },
  {
   "cell_type": "markdown",
   "id": "1c78140b",
   "metadata": {},
   "source": [
    "## 数据预处理"
   ]
  },
  {
   "cell_type": "code",
   "execution_count": 43,
   "id": "f4b98735",
   "metadata": {
    "scrolled": true
   },
   "outputs": [
    {
     "name": "stdout",
     "output_type": "stream",
     "text": [
      "子类别      书架  信封  器具  复印机  收纳具  标签  桌子  椅子  用具  用品  电话  系固件  纸张  美术  装订机  设备  \\\n",
      "订单编号                                                                          \n",
      "1007278   1   1   1    0    1   1   0   1   1   1   0    0   0   0    1   0   \n",
      "1015819   0   0   0    0    1   0   0   0   0   1   1    0   0   0    0   1   \n",
      "1017090   0   0   0    1    1   1   0   0   1   0   0    1   1   0    0   1   \n",
      "1021233   0   0   0    0    0   0   1   0   1   1   1    0   0   1    1   0   \n",
      "1031662   1   0   1    1    1   1   1   1   1   0   0    1   0   1    0   1   \n",
      "...      ..  ..  ..  ...  ...  ..  ..  ..  ..  ..  ..  ...  ..  ..  ...  ..   \n",
      "5950580   1   0   0    0    1   1   0   0   1   0   0    0   1   1    0   0   \n",
      "5956361   1   1   1    1    1   0   1   1   1   0   1    1   1   1    1   1   \n",
      "5956912   0   1   1    0    1   0   0   1   1   1   0    0   0   1    1   0   \n",
      "5960733   1   1   0    0    1   1   0   1   0   0   0    0   0   0    1   1   \n",
      "5966135   0   1   1    1    0   0   0   1   1   0   0    1   1   1    0   1   \n",
      "\n",
      "子类别      配件  \n",
      "订单编号         \n",
      "1007278   0  \n",
      "1015819   0  \n",
      "1017090   1  \n",
      "1021233   0  \n",
      "1031662   1  \n",
      "...      ..  \n",
      "5950580   0  \n",
      "5956361   1  \n",
      "5956912   1  \n",
      "5960733   0  \n",
      "5966135   0  \n",
      "\n",
      "[988 rows x 17 columns]\n"
     ]
    }
   ],
   "source": [
    "basket_df = df.pivot_table(index='订单编号', columns='子类别', aggfunc=lambda x: 1, fill_value=0)\n",
    "print(basket_df)"
   ]
  },
  {
   "cell_type": "code",
   "execution_count": 44,
   "id": "9ee19ed7",
   "metadata": {},
   "outputs": [
    {
     "name": "stdout",
     "output_type": "stream",
     "text": [
      "子类别      书架  信封  器具  复印机  收纳具  标签  桌子  椅子  用具  用品  电话  系固件  纸张  美术  装订机  设备  \\\n",
      "订单编号                                                                          \n",
      "1007278   1   1   1    0    1   1   0   1   1   1   0    0   0   0    1   0   \n",
      "1015819   0   0   0    0    1   0   0   0   0   1   1    0   0   0    0   1   \n",
      "1017090   0   0   0    1    1   1   0   0   1   0   0    1   1   0    0   1   \n",
      "1021233   0   0   0    0    0   0   1   0   1   1   1    0   0   1    1   0   \n",
      "1031662   1   0   1    1    1   1   1   1   1   0   0    1   0   1    0   1   \n",
      "...      ..  ..  ..  ...  ...  ..  ..  ..  ..  ..  ..  ...  ..  ..  ...  ..   \n",
      "5950580   1   0   0    0    1   1   0   0   1   0   0    0   1   1    0   0   \n",
      "5956361   1   1   1    1    1   0   1   1   1   0   1    1   1   1    1   1   \n",
      "5956912   0   1   1    0    1   0   0   1   1   1   0    0   0   1    1   0   \n",
      "5960733   1   1   0    0    1   1   0   1   0   0   0    0   0   0    1   1   \n",
      "5966135   0   1   1    1    0   0   0   1   1   0   0    1   1   1    0   1   \n",
      "\n",
      "子类别      配件  \n",
      "订单编号         \n",
      "1007278   0  \n",
      "1015819   0  \n",
      "1017090   1  \n",
      "1021233   0  \n",
      "1031662   1  \n",
      "...      ..  \n",
      "5950580   0  \n",
      "5956361   1  \n",
      "5956912   1  \n",
      "5960733   0  \n",
      "5966135   0  \n",
      "\n",
      "[968 rows x 17 columns]\n"
     ]
    }
   ],
   "source": [
    "# 使用sum函数对每行进行求和，然后筛选出和大于1的行\n",
    "basket_df = basket_df[basket_df.sum(axis=1) > 1]\n",
    "print(basket_df)"
   ]
  },
  {
   "cell_type": "markdown",
   "id": "b8a3dc05",
   "metadata": {},
   "source": [
    "## Apriori"
   ]
  },
  {
   "cell_type": "code",
   "execution_count": 46,
   "id": "481f346c",
   "metadata": {},
   "outputs": [
    {
     "name": "stdout",
     "output_type": "stream",
     "text": [
      "      support             itemsets\n",
      "0    0.433884                 (书架)\n",
      "1    0.455579                 (信封)\n",
      "2    0.425620                 (器具)\n",
      "3    0.417355                (复印机)\n",
      "4    0.525826                (收纳具)\n",
      "..        ...                  ...\n",
      "497  0.101240   (电话, 椅子, 装订机, 收纳具)\n",
      "498  0.110537  (装订机, 椅子, 系固件, 收纳具)\n",
      "499  0.104339   (椅子, 装订机, 收纳具, 纸张)\n",
      "500  0.106405   (美术, 椅子, 装订机, 收纳具)\n",
      "501  0.102273   (配件, 装订机, 收纳具, 椅子)\n",
      "\n",
      "[502 rows x 2 columns]\n",
      "     support        itemsets\n",
      "0   0.433884            (书架)\n",
      "1   0.455579            (信封)\n",
      "2   0.425620            (器具)\n",
      "3   0.417355           (复印机)\n",
      "4   0.525826           (收纳具)\n",
      "..       ...             ...\n",
      "83  0.259298      (装订机, 系固件)\n",
      "84  0.245868       (装订机, 纸张)\n",
      "85  0.264463       (美术, 装订机)\n",
      "86  0.250000       (配件, 装订机)\n",
      "87  0.213843  (椅子, 装订机, 收纳具)\n",
      "\n",
      "[88 rows x 2 columns]\n",
      "     support    itemsets\n",
      "0   0.433884        (书架)\n",
      "1   0.455579        (信封)\n",
      "2   0.425620        (器具)\n",
      "3   0.417355       (复印机)\n",
      "4   0.525826       (收纳具)\n",
      "5   0.430785        (标签)\n",
      "6   0.560950        (椅子)\n",
      "7   0.435950        (用具)\n",
      "8   0.445248        (用品)\n",
      "9   0.430785        (电话)\n",
      "10  0.419421       (系固件)\n",
      "11  0.408058        (纸张)\n",
      "12  0.416322        (美术)\n",
      "13  0.578512       (装订机)\n",
      "14  0.410124        (配件)\n",
      "15  0.317149   (椅子, 收纳具)\n",
      "16  0.325413  (装订机, 收纳具)\n",
      "17  0.354339   (椅子, 装订机)\n",
      "     support itemsets\n",
      "0   0.433884     (书架)\n",
      "1   0.455579     (信封)\n",
      "2   0.425620     (器具)\n",
      "3   0.417355    (复印机)\n",
      "4   0.525826    (收纳具)\n",
      "5   0.430785     (标签)\n",
      "6   0.560950     (椅子)\n",
      "7   0.435950     (用具)\n",
      "8   0.445248     (用品)\n",
      "9   0.430785     (电话)\n",
      "10  0.419421    (系固件)\n",
      "11  0.408058     (纸张)\n",
      "12  0.416322     (美术)\n",
      "13  0.578512    (装订机)\n",
      "14  0.410124     (配件)\n",
      "    support itemsets\n",
      "0  0.525826    (收纳具)\n",
      "1  0.560950     (椅子)\n",
      "2  0.578512    (装订机)\n",
      "Empty DataFrame\n",
      "Columns: [support, itemsets]\n",
      "Index: []\n",
      "Empty DataFrame\n",
      "Columns: [support, itemsets]\n",
      "Index: []\n",
      "Empty DataFrame\n",
      "Columns: [support, itemsets]\n",
      "Index: []\n",
      "Empty DataFrame\n",
      "Columns: [support, itemsets]\n",
      "Index: []\n"
     ]
    },
    {
     "name": "stderr",
     "output_type": "stream",
     "text": [
      "/Users/helinwang/opt/anaconda3/envs/pytorch/lib/python3.11/site-packages/mlxtend/frequent_patterns/fpcommon.py:110: DeprecationWarning: DataFrames with non-bool types result in worse computationalperformance and their support might be discontinued in the future.Please use a DataFrame with bool type\n",
      "  warnings.warn(\n",
      "/Users/helinwang/opt/anaconda3/envs/pytorch/lib/python3.11/site-packages/mlxtend/frequent_patterns/fpcommon.py:110: DeprecationWarning: DataFrames with non-bool types result in worse computationalperformance and their support might be discontinued in the future.Please use a DataFrame with bool type\n",
      "  warnings.warn(\n",
      "/Users/helinwang/opt/anaconda3/envs/pytorch/lib/python3.11/site-packages/mlxtend/frequent_patterns/fpcommon.py:110: DeprecationWarning: DataFrames with non-bool types result in worse computationalperformance and their support might be discontinued in the future.Please use a DataFrame with bool type\n",
      "  warnings.warn(\n",
      "/Users/helinwang/opt/anaconda3/envs/pytorch/lib/python3.11/site-packages/mlxtend/frequent_patterns/fpcommon.py:110: DeprecationWarning: DataFrames with non-bool types result in worse computationalperformance and their support might be discontinued in the future.Please use a DataFrame with bool type\n",
      "  warnings.warn(\n",
      "/Users/helinwang/opt/anaconda3/envs/pytorch/lib/python3.11/site-packages/mlxtend/frequent_patterns/fpcommon.py:110: DeprecationWarning: DataFrames with non-bool types result in worse computationalperformance and their support might be discontinued in the future.Please use a DataFrame with bool type\n",
      "  warnings.warn(\n",
      "/Users/helinwang/opt/anaconda3/envs/pytorch/lib/python3.11/site-packages/mlxtend/frequent_patterns/fpcommon.py:110: DeprecationWarning: DataFrames with non-bool types result in worse computationalperformance and their support might be discontinued in the future.Please use a DataFrame with bool type\n",
      "  warnings.warn(\n",
      "/Users/helinwang/opt/anaconda3/envs/pytorch/lib/python3.11/site-packages/mlxtend/frequent_patterns/fpcommon.py:110: DeprecationWarning: DataFrames with non-bool types result in worse computationalperformance and their support might be discontinued in the future.Please use a DataFrame with bool type\n",
      "  warnings.warn(\n",
      "/Users/helinwang/opt/anaconda3/envs/pytorch/lib/python3.11/site-packages/mlxtend/frequent_patterns/fpcommon.py:110: DeprecationWarning: DataFrames with non-bool types result in worse computationalperformance and their support might be discontinued in the future.Please use a DataFrame with bool type\n",
      "  warnings.warn(\n",
      "/Users/helinwang/opt/anaconda3/envs/pytorch/lib/python3.11/site-packages/mlxtend/frequent_patterns/fpcommon.py:110: DeprecationWarning: DataFrames with non-bool types result in worse computationalperformance and their support might be discontinued in the future.Please use a DataFrame with bool type\n",
      "  warnings.warn(\n"
     ]
    },
    {
     "data": {
      "image/png": "[encoded data removed]",
      "text/plain": [
       "<Figure size 640x480 with 1 Axes>"
      ]
     },
     "metadata": {},
     "output_type": "display_data"
    }
   ],
   "source": [
    "# 设置不同的 min_support 值\n",
    "min_support_values = [0.1, 0.2, 0.3, 0.4, 0.5, 0.6, 0.7, 0.8, 0.9]\n",
    "\n",
    "# 绘制折线图\n",
    "frequent_itemset_counts = []\n",
    "for min_support in min_support_values:\n",
    "    frequent_itemsets = apriori(basket_df, min_support=min_support, use_colnames=True)\n",
    "    print(frequent_itemsets)\n",
    "    frequent_itemset_counts.append(len(frequent_itemsets))\n",
    "\n",
    "plt.plot(min_support_values, frequent_itemset_counts, marker='o')\n",
    "plt.xlabel('min_support')\n",
    "plt.ylabel('Number of Frequent Itemsets')\n",
    "plt.title('Impact of min_support on Frequent Itemsets')\n",
    "plt.show()"
   ]
  },
  {
   "cell_type": "code",
   "execution_count": 50,
   "id": "8c35cb3d",
   "metadata": {},
   "outputs": [
    {
     "name": "stdout",
     "output_type": "stream",
     "text": [
      "     support    itemsets\n",
      "0   0.433884        (书架)\n",
      "1   0.455579        (信封)\n",
      "2   0.425620        (器具)\n",
      "3   0.417355       (复印机)\n",
      "4   0.525826       (收纳具)\n",
      "5   0.430785        (标签)\n",
      "6   0.560950        (椅子)\n",
      "7   0.435950        (用具)\n",
      "8   0.445248        (用品)\n",
      "9   0.430785        (电话)\n",
      "10  0.419421       (系固件)\n",
      "11  0.408058        (纸张)\n",
      "12  0.416322        (美术)\n",
      "13  0.578512       (装订机)\n",
      "14  0.410124        (配件)\n",
      "15  0.317149   (椅子, 收纳具)\n",
      "16  0.325413  (装订机, 收纳具)\n",
      "17  0.354339   (椅子, 装订机)\n"
     ]
    },
    {
     "name": "stderr",
     "output_type": "stream",
     "text": [
      "/Users/helinwang/opt/anaconda3/envs/pytorch/lib/python3.11/site-packages/mlxtend/frequent_patterns/fpcommon.py:110: DeprecationWarning: DataFrames with non-bool types result in worse computationalperformance and their support might be discontinued in the future.Please use a DataFrame with bool type\n",
      "  warnings.warn(\n"
     ]
    }
   ],
   "source": [
    "min_sup=0.3\n",
    "frequent_itemsets = apriori(basket_df, min_support=min_sup, use_colnames=True)\n",
    "print(frequent_itemsets)"
   ]
  },
  {
   "cell_type": "code",
   "execution_count": 60,
   "id": "5deb94f9",
   "metadata": {},
   "outputs": [
    {
     "name": "stdout",
     "output_type": "stream",
     "text": [
      "  antecedents consequents  antecedent support  consequent support   support  \\\n",
      "0        (椅子)       (收纳具)            0.560950            0.525826  0.317149   \n",
      "1       (收纳具)        (椅子)            0.525826            0.560950  0.317149   \n",
      "2       (装订机)       (收纳具)            0.578512            0.525826  0.325413   \n",
      "3       (收纳具)       (装订机)            0.525826            0.578512  0.325413   \n",
      "4        (椅子)       (装订机)            0.560950            0.578512  0.354339   \n",
      "5       (装订机)        (椅子)            0.578512            0.560950  0.354339   \n",
      "\n",
      "   confidence      lift  leverage  conviction  zhangs_metric  \n",
      "0    0.565378  1.075217  0.022186    1.091001       0.159333  \n",
      "1    0.603143  1.075217  0.022186    1.106318       0.147531  \n",
      "2    0.562500  1.069745  0.021216    1.083825       0.154684  \n",
      "3    0.618861  1.069745  0.021216    1.105862       0.137497  \n",
      "4    0.631676  1.091897  0.029822    1.144339       0.191693  \n",
      "5    0.612500  1.091897  0.029822    1.133031       0.199680  \n"
     ]
    }
   ],
   "source": [
    "rules = association_rules(frequent_itemsets, metric='confidence', min_threshold=0.1)\n",
    "print(rules)"
   ]
  }
 ],
 "metadata": {
  "kernelspec": {
   "display_name": "Python 3 (ipykernel)",
   "language": "python",
   "name": "python3"
  },
  "language_info": {
   "codemirror_mode": {
    "name": "ipython",
    "version": 3
   },
   "file_extension": ".py",
   "mimetype": "text/x-python",
   "name": "python",
   "nbconvert_exporter": "python",
   "pygments_lexer": "ipython3",
   "version": "3.11.5"
  }
 },
 "nbformat": 4,
 "nbformat_minor": 5
}
